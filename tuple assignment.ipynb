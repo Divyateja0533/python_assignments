{
 "cells": [
  {
   "cell_type": "code",
   "execution_count": null,
   "id": "cc857285",
   "metadata": {},
   "outputs": [
    {
     "name": "stdout",
     "output_type": "stream",
     "text": [
      "(1, 2, 3, 4, 5, 6, 7, 8, 9, 10)\n"
     ]
    }
   ],
   "source": [
    "# TUPLE DATATYPE ASSIGNMENT\n",
    "# ========================\n",
    "\n",
    "##1.Create a tuple of first 10 natural numbers\n",
    "list = [1,2,3,4,5,6,7,8,9,10]\n",
    "tuple = tuple(list)\n",
    "print(tuple)\n"
   ]
  },
  {
   "cell_type": "code",
   "execution_count": 2,
   "id": "6153cba4",
   "metadata": {},
   "outputs": [
    {
     "name": "stdout",
     "output_type": "stream",
     "text": [
      "10\n"
     ]
    }
   ],
   "source": [
    "##2.Find the length of tuple (1, 2, 3, 4, 5, 6, 7, 8, 9, 10)\n",
    "list=(1,2,3,4,5,6,7,8,9,10)\n",
    "print(len(list))\n"
   ]
  },
  {
   "cell_type": "code",
   "execution_count": 6,
   "id": "4dc8c361",
   "metadata": {},
   "outputs": [
    {
     "name": "stdout",
     "output_type": "stream",
     "text": [
      "d\n"
     ]
    }
   ],
   "source": [
    "## 3.Access the 3rd element from tuple ('a', 'b', 'c', 'd', 'e')\n",
    "tuple = ('a','b','c','d','e')\n",
    "third_element = tuple[3]\n",
    "print(third_element)"
   ]
  },
  {
   "cell_type": "code",
   "execution_count": 7,
   "id": "0520b9d4",
   "metadata": {},
   "outputs": [
    {
     "name": "stdout",
     "output_type": "stream",
     "text": [
      "89\n"
     ]
    }
   ],
   "source": [
    "##4.Find the maximum value in tuple (23, 45, 12, 67, 34, 89, 56)\n",
    "tuple = (23,45,12,67,34,89,56)\n",
    "max_value = max(tuple)\n",
    "print(max_value)"
   ]
  },
  {
   "cell_type": "code",
   "execution_count": 8,
   "id": "7c1daef4",
   "metadata": {},
   "outputs": [
    {
     "name": "stdout",
     "output_type": "stream",
     "text": [
      "4\n"
     ]
    }
   ],
   "source": [
    "## 5.Count how many times 5 appears in (1, 5, 2, 5, 3, 5, 4, 5, 6)\n",
    "tuple = (1,5,2,5,3,5,4,5,6)\n",
    "new_tuple = tuple.count(5)\n",
    "print(new_tuple)"
   ]
  },
  {
   "cell_type": "code",
   "execution_count": 9,
   "id": "3f4fd9fd",
   "metadata": {},
   "outputs": [
    {
     "name": "stdout",
     "output_type": "stream",
     "text": [
      "(1, 3.14, 'hello', True)\n"
     ]
    }
   ],
   "source": [
    " ### 6.Create a tuple of mixed data types (integer, float, string, boolean)\n",
    "mixed_type = (1,3.14,\"hello\",True)\n",
    "print(mixed_type)"
   ]
  },
  {
   "cell_type": "code",
   "execution_count": 10,
   "id": "40ef1625",
   "metadata": {},
   "outputs": [
    {
     "name": "stdout",
     "output_type": "stream",
     "text": [
      "1\n"
     ]
    }
   ],
   "source": [
    "## 7.Find the index of element 'python' in ('java', 'python', 'c++', 'javascript')\n",
    "my_tuple = ('java','python','c++','javascript')\n",
    "index_python = my_tuple.index('python')\n",
    "print(index_python)\n"
   ]
  },
  {
   "cell_type": "code",
   "execution_count": 11,
   "id": "da8196ce",
   "metadata": {},
   "outputs": [
    {
     "name": "stdout",
     "output_type": "stream",
     "text": [
      "False\n"
     ]
    }
   ],
   "source": [
    "## 8.Check if 25 exists in tuple (10, 20, 30, 40, 50)\n",
    "my_tuple = (10,20,30,40,50)\n",
    "my_tuple_1 = 25 in my_tuple\n",
    "print(my_tuple_1)\n"
   ]
  },
  {
   "cell_type": "code",
   "execution_count": 12,
   "id": "815404a2",
   "metadata": {},
   "outputs": [
    {
     "name": "stdout",
     "output_type": "stream",
     "text": [
      "(2, 4, 6, 8, 10)\n"
     ]
    }
   ],
   "source": [
    "## 9.Create a tuple of first 5 even numbers\n",
    "numbers = (2,4,6,8,10)\n",
    "print(numbers)\n",
    "\n"
   ]
  },
  {
   "cell_type": "code",
   "execution_count": 13,
   "id": "43cd4189",
   "metadata": {},
   "outputs": [
    {
     "name": "stdout",
     "output_type": "stream",
     "text": [
      "40.833333333333336\n"
     ]
    }
   ],
   "source": [
    "## 10.Find the average of numbers in tuple (15, 23, 31, 42, 56, 78)\n",
    "numbers = (15,23,31,42,56,78)\n",
    "average =  sum(numbers)/len(numbers)\n",
    "print(average)"
   ]
  },
  {
   "cell_type": "code",
   "execution_count": null,
   "id": "c2bda9b8",
   "metadata": {},
   "outputs": [],
   "source": []
  }
 ],
 "metadata": {
  "kernelspec": {
   "display_name": "Python 3",
   "language": "python",
   "name": "python3"
  },
  "language_info": {
   "codemirror_mode": {
    "name": "ipython",
    "version": 3
   },
   "file_extension": ".py",
   "mimetype": "text/x-python",
   "name": "python",
   "nbconvert_exporter": "python",
   "pygments_lexer": "ipython3",
   "version": "3.13.7"
  }
 },
 "nbformat": 4,
 "nbformat_minor": 5
}
