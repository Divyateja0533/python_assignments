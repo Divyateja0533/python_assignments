{
 "cells": [
  {
   "cell_type": "code",
   "execution_count": null,
   "id": "905b60e1",
   "metadata": {},
   "outputs": [],
   "source": []
  },
  {
   "cell_type": "code",
   "execution_count": null,
   "id": "2ca5b1bd",
   "metadata": {},
   "outputs": [
    {
     "name": "stdout",
     "output_type": "stream",
     "text": [
      "True\n",
      "True\n"
     ]
    }
   ],
   "source": [
    "# BOOLEAN DATATYPE ASSIGNMENT\n",
    "# Question 1: Check if 25 is greater than 20 and less than 30\n",
    "number = 25\n",
    "print(number>20)\n",
    "print(number<30)\n"
   ]
  },
  {
   "cell_type": "code",
   "execution_count": 46,
   "id": "cd14b677",
   "metadata": {},
   "outputs": [
    {
     "name": "stdout",
     "output_type": "stream",
     "text": [
      "25 is greater than 20 and less than 30.\n"
     ]
    }
   ],
   "source": [
    "##Check if 25 is greater than 20 and less than 30\n",
    "num = 25\n",
    "if num > 20 and  num < 30:\n",
    "    print(f\"{num} is greater than 20 and less than 30.\")\n",
    "else:\n",
    "    print(f\"{num} is not greater than 20 and  less than 30.\")"
   ]
  },
  {
   "cell_type": "code",
   "execution_count": null,
   "id": "1419aeba",
   "metadata": {},
   "outputs": [],
   "source": []
  },
  {
   "cell_type": "code",
   "execution_count": 3,
   "id": "5abc7960",
   "metadata": {},
   "outputs": [
    {
     "name": "stdout",
     "output_type": "stream",
     "text": [
      "two strings are not equal\n"
     ]
    }
   ],
   "source": [
    "# Question 2: Check if string \"python\" is equal to \"Python\" (case sensitive)\n",
    "string1 = \"python\"\n",
    "string2 = \"Python\"\n",
    "if string1==string2:\n",
    "    print(\"two strings are equal\")\n",
    "else:\n",
    "    print(\"two strings are not equal\")"
   ]
  },
  {
   "cell_type": "code",
   "execution_count": null,
   "id": "e17020c0",
   "metadata": {},
   "outputs": [
    {
     "name": "stdout",
     "output_type": "stream",
     "text": [
      "15 is divisible by both 3 and 5\n"
     ]
    }
   ],
   "source": [
    "# Question 3: Check if 15 is divisible by both 3 and 5\n",
    "num = 15\n",
    "if num % 3==0 and num %5 ==0:\n",
    "    print(f\"{num} is divisible by both 3 and 5\")\n",
    "else:\n",
    "    print(f\"{num} is not divisible by both 3 and 5\")\n"
   ]
  },
  {
   "cell_type": "code",
   "execution_count": 50,
   "id": "30cfdcd3",
   "metadata": {},
   "outputs": [
    {
     "name": "stdout",
     "output_type": "stream",
     "text": [
      "7 is  not equal to 8\n"
     ]
    }
   ],
   "source": [
    "# Question 4: Check if 7 is not equal to 8\n",
    "num = 7\n",
    "if num !=8:\n",
    "        print(f\"{num} is  not equal to 8\")\n",
    "else:\n",
    "    print(f\"{num} is equal to 8\")\n"
   ]
  },
  {
   "cell_type": "code",
   "execution_count": 25,
   "id": "9320b9d9",
   "metadata": {},
   "outputs": [
    {
     "name": "stdout",
     "output_type": "stream",
     "text": [
      "100 is greater than 50 or less than 25.\n"
     ]
    }
   ],
   "source": [
    "##Question 5: Check if 100 is greater than 50 or less than 25\n",
    "num = 100\n",
    "if num > 50 or num < 25:\n",
    "    print(f\"{num} is greater than 50 or less than 25.\")\n",
    "else:\n",
    "    print(f\"{num} is not greater than 50 or less than 25.\")"
   ]
  },
  {
   "cell_type": "code",
   "execution_count": 41,
   "id": "b99abad4",
   "metadata": {},
   "outputs": [
    {
     "name": "stdout",
     "output_type": "stream",
     "text": [
      "0 is falsy.\n"
     ]
    }
   ],
   "source": [
    "# Question 6: Check if 0 is falsy in Python\n",
    "value = 0\n",
    "if value==1:\n",
    "    print(\"0 is truthy.\")\n",
    "else:\n",
    "    print(\"0 is falsy.\")"
   ]
  },
  {
   "cell_type": "code",
   "execution_count": 35,
   "id": "540e0377",
   "metadata": {},
   "outputs": [
    {
     "name": "stdout",
     "output_type": "stream",
     "text": [
      "Empty string is falsy\n"
     ]
    }
   ],
   "source": [
    "# Question 7: Check if empty string \"\" is falsy in Python\n",
    "string = \"\"\n",
    "if string:\n",
    "    print(\"Empty string is truthy.\")\n",
    "else:\n",
    "    print(\"Empty string is falsy\")"
   ]
  },
  {
   "cell_type": "code",
   "execution_count": 29,
   "id": "c007c924",
   "metadata": {},
   "outputs": [
    {
     "name": "stdout",
     "output_type": "stream",
     "text": [
      "42 is falsy\n"
     ]
    }
   ],
   "source": [
    "# Question 8: Check if 42 is truthy in Python\n",
    "num = 42\n",
    "if num == 0:\n",
    "        print(\"42 is truthly\")\n",
    "else:\n",
    "    print(\"42 is falsy\")"
   ]
  },
  {
   "cell_type": "code",
   "execution_count": 44,
   "id": "6459461a",
   "metadata": {},
   "outputs": [
    {
     "name": "stdout",
     "output_type": "stream",
     "text": [
      "10 is between 5 and 15 (inclusive)\n"
     ]
    }
   ],
   "source": [
    "# Question 9: Check if 10 is between 5 and 15 (inclusive)\n",
    "num = 10\n",
    "if 5<=num<=15:\n",
    "        print(f\"{num} is between 5 and 15 (inclusive)\")\n",
    "else:\n",
    "    print(f\"{num} is not between 5 and 15 (inclusive)\")\n"
   ]
  },
  {
   "cell_type": "code",
   "execution_count": 45,
   "id": "8bda7941",
   "metadata": {},
   "outputs": [
    {
     "name": "stdout",
     "output_type": "stream",
     "text": [
      "3.14 is greater than 3 and less than 4.\n"
     ]
    }
   ],
   "source": [
    "# Question 10: Check if 3.14 is greater than 3 and less than 4\n",
    "num = 3.14\n",
    "if num > 3 and  num < 4:\n",
    "    print(f\"{num} is greater than 3 and less than 4.\")\n",
    "else:\n",
    "    print(f\"{num} is not greater than 3 and  less than 4.\")"
   ]
  },
  {
   "cell_type": "code",
   "execution_count": null,
   "id": "15388a8f",
   "metadata": {},
   "outputs": [],
   "source": []
  }
 ],
 "metadata": {
  "kernelspec": {
   "display_name": "Python 3",
   "language": "python",
   "name": "python3"
  },
  "language_info": {
   "codemirror_mode": {
    "name": "ipython",
    "version": 3
   },
   "file_extension": ".py",
   "mimetype": "text/x-python",
   "name": "python",
   "nbconvert_exporter": "python",
   "pygments_lexer": "ipython3",
   "version": "3.13.7"
  }
 },
 "nbformat": 4,
 "nbformat_minor": 5
}
