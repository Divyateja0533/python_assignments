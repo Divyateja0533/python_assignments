{
 "cells": [
  {
   "cell_type": "code",
   "execution_count": 5,
   "id": "7a23d610",
   "metadata": {},
   "outputs": [
    {
     "name": "stdout",
     "output_type": "stream",
     "text": [
      "reversed string is :'gnimmargorP nohtyP'\n"
     ]
    }
   ],
   "source": [
    "# STRING DATATYPE ASSIGNMENT \n",
    "##1: Reverse the string \"Python Programming\"\n",
    "str = \"Python Programming\"\n",
    "reversed_string = str[::-1]\n",
    "print(f\"reversed string is :'{reversed_string}'\")"
   ]
  },
  {
   "cell_type": "code",
   "execution_count": 9,
   "id": "93dfac2c",
   "metadata": {},
   "outputs": [
    {
     "name": "stdout",
     "output_type": "stream",
     "text": [
      "racecar is a palindrome\n"
     ]
    }
   ],
   "source": [
    "### 2 Check if \"racecar\" is a palindrome\n",
    "string = \"racecar\"\n",
    "if string == string[::-1]:\n",
    "    print(f\"{string} is a palindrome\")\n",
    "else:\n",
    "    print(f\"{string} is not a palindrome\")"
   ]
  },
  {
   "cell_type": "code",
   "execution_count": 11,
   "id": "bf68e236",
   "metadata": {},
   "outputs": [
    {
     "name": "stdout",
     "output_type": "stream",
     "text": [
      "Python is a great programming language\n"
     ]
    }
   ],
   "source": [
    "##3: Count the number of words in \"Python is a great programming language\"\n",
    "string = \"Python is a great programming language\"\n",
    "print(string)\n"
   ]
  },
  {
   "cell_type": "code",
   "execution_count": 12,
   "id": "6dc80aa6",
   "metadata": {},
   "outputs": [
    {
     "data": {
      "text/plain": [
       "'Python Is A Great Programming Language'"
      ]
     },
     "execution_count": 12,
     "metadata": {},
     "output_type": "execute_result"
    }
   ],
   "source": [
    "##4 : Convert \"hello world\" to title case\n",
    "string = \"Python is a great programming language\"\n",
    "string.title()"
   ]
  },
  {
   "cell_type": "code",
   "execution_count": 13,
   "id": "50a14341",
   "metadata": {},
   "outputs": [
    {
     "data": {
      "text/plain": [
       "12"
      ]
     },
     "execution_count": 13,
     "metadata": {},
     "output_type": "execute_result"
    }
   ],
   "source": [
    "##5: Find the length of string \"Data Science\"\n",
    "str = \"Data Science\"\n",
    "len(str)\n"
   ]
  },
  {
   "cell_type": "code",
   "execution_count": 16,
   "id": "008d8c37",
   "metadata": {},
   "outputs": [
    {
     "name": "stdout",
     "output_type": "stream",
     "text": [
      "Machine_Learning\n"
     ]
    }
   ],
   "source": [
    "##6: Replace all spaces with underscores in \"Machine Learning\"\n",
    "str = \"Machine Learning\"\n",
    "str1 = str.replace(\" \",\"_\")\n",
    "print(str1)"
   ]
  },
  {
   "cell_type": "code",
   "execution_count": 23,
   "id": "57b3230a",
   "metadata": {},
   "outputs": [
    {
     "data": {
      "text/plain": [
       "False"
      ]
     },
     "execution_count": 23,
     "metadata": {},
     "output_type": "execute_result"
    }
   ],
   "source": [
    "##7: Check if \"python\" is in \"Python Programming Language\"\n",
    "string_1 = \"Python Programming Language\"\n",
    "string_2 = \"python\" in \"string 1\"\n",
    "string_2\n",
    "\n"
   ]
  },
  {
   "cell_type": "code",
   "execution_count": 27,
   "id": "855498ff",
   "metadata": {},
   "outputs": [
    {
     "name": "stdout",
     "output_type": "stream",
     "text": [
      "first 5 characters from Artificial Intelligence: 'Artifi'\n"
     ]
    }
   ],
   "source": [
    "##8: Extract the first 5 characters from \"Artificial Intelligence\"\n",
    "str = \"Artificial Intelligence\"\n",
    "first_5_char = str[0:6]\n",
    "print(f\"first 5 characters from {str}: '{first_5_char}'\")\n"
   ]
  },
  {
   "cell_type": "code",
   "execution_count": 28,
   "id": "3542c258",
   "metadata": {},
   "outputs": [
    {
     "name": "stdout",
     "output_type": "stream",
     "text": [
      "uppercase\n"
     ]
    }
   ],
   "source": [
    "##9.Convert \"UPPERCASE\" to lowercase\n",
    "str = \"UPPERCASE\"\n",
    "print(str.lower())"
   ]
  },
  {
   "cell_type": "code",
   "execution_count": 62,
   "id": "b85dd740",
   "metadata": {},
   "outputs": [
    {
     "name": "stdout",
     "output_type": "stream",
     "text": [
      "Cmptr Scnc\n"
     ]
    }
   ],
   "source": [
    "##10: Remove all vowels from \"Computer Science\"\n",
    "string =  \"Computer Science\"\n",
    "vowels = \"aeiouAEIOU\"\n",
    "result = ''.join([char for char in string if char not in vowels])\n",
    "print(result)"
   ]
  },
  {
   "cell_type": "code",
   "execution_count": null,
   "id": "508c370e",
   "metadata": {},
   "outputs": [
    {
     "name": "stdout",
     "output_type": "stream",
     "text": [
      "Capitalize first letter of each word in 'python programming language':Python Programming Language\n"
     ]
    }
   ],
   "source": [
    "### 11.Capitalize first letter of each word in \"python programming language\"\n",
    "string = \"python programming language\"\n",
    "x=string.title()\n",
    "print(f\"Capitalize first letter of each word in '{string}':{x}\")"
   ]
  },
  {
   "cell_type": "code",
   "execution_count": null,
   "id": "4c7bba59",
   "metadata": {},
   "outputs": [
    {
     "name": "stdout",
     "output_type": "stream",
     "text": [
      "7\n"
     ]
    }
   ],
   "source": [
    "### 12.Count consonants in \"Hello World\"\n",
    "text = \"Hello World\"\n",
    "vowels = \"aeiouAEIOU\"\n",
    "count = 0\n",
    "for ch in text:\n",
    "    if ch.isalpha() and ch.lower() not in vowels:\n",
    "        count += 1\n",
    "print(count)\n",
    "\n"
   ]
  },
  {
   "cell_type": "code",
   "execution_count": 65,
   "id": "90a63eb6",
   "metadata": {},
   "outputs": [
    {
     "name": "stdout",
     "output_type": "stream",
     "text": [
      "programming\n"
     ]
    }
   ],
   "source": [
    "###13: Find the longest word in \"Python is a programming language\"\n",
    "text = \"Python is a programming language\"\n",
    "words = text.split()\n",
    "longest = max(words,key=len)\n",
    "print(longest)\n"
   ]
  },
  {
   "cell_type": "code",
   "execution_count": null,
   "id": "5be5097d",
   "metadata": {},
   "outputs": [
    {
     "name": "stdout",
     "output_type": "stream",
     "text": [
      "True\n"
     ]
    }
   ],
   "source": [
    "###14.Check if string starts with \"Python\"\n",
    "str = \"Python\"\n",
    "print(str.startswith(\"Python\"))\n"
   ]
  },
  {
   "cell_type": "code",
   "execution_count": null,
   "id": "b4d605a5",
   "metadata": {},
   "outputs": [
    {
     "name": "stdout",
     "output_type": "stream",
     "text": [
      "4\n"
     ]
    }
   ],
   "source": [
    "### 15.Find the index of first occurrence of 'o' in \"Hello World\"\n",
    "text = \"Hello World\"\n",
    "print(text.index(\"o\"))"
   ]
  },
  {
   "cell_type": "code",
   "execution_count": null,
   "id": "88e81146",
   "metadata": {},
   "outputs": [
    {
     "data": {
      "text/plain": [
       "['apple', 'banana', 'orange']"
      ]
     },
     "execution_count": 48,
     "metadata": {},
     "output_type": "execute_result"
    }
   ],
   "source": [
    "## 16.split string \"apple,banana,orange\" by comma\n",
    "text = \"apple,banana,orange\"\n",
    "text.split(',')\n",
    "\n"
   ]
  },
  {
   "cell_type": "code",
   "execution_count": 68,
   "id": "fe1366b3",
   "metadata": {},
   "outputs": [
    {
     "name": "stdout",
     "output_type": "stream",
     "text": [
      "Python is awesome\n"
     ]
    }
   ],
   "source": [
    "### 17.Join list ['Python', 'is', 'awesome'] with spaces\n",
    "list = ['Python', 'is', 'awesome']\n",
    "sentence = \" \".join(list)\n",
    "print(sentence)"
   ]
  },
  {
   "cell_type": "code",
   "execution_count": null,
   "id": "4238a39a",
   "metadata": {},
   "outputs": [
    {
     "data": {
      "text/plain": [
       "True"
      ]
     },
     "execution_count": 53,
     "metadata": {},
     "output_type": "execute_result"
    }
   ],
   "source": [
    "###18.Check if string contains only digits: \"12345\"\n",
    "x= \"12345\"\n",
    "x.isdigit()"
   ]
  },
  {
   "cell_type": "code",
   "execution_count": null,
   "id": "edf5af5c",
   "metadata": {},
   "outputs": [
    {
     "data": {
      "text/plain": [
       "True"
      ]
     },
     "execution_count": 54,
     "metadata": {},
     "output_type": "execute_result"
    }
   ],
   "source": [
    "##19: Check if string contains only letters: \"HelloWorld\"\n",
    "str = \"HelloWorld\"\n",
    "str.isalpha()"
   ]
  },
  {
   "cell_type": "code",
   "execution_count": 73,
   "id": "6bb10bb6",
   "metadata": {},
   "outputs": [
    {
     "data": {
      "text/plain": [
       "1"
      ]
     },
     "execution_count": 73,
     "metadata": {},
     "output_type": "execute_result"
    }
   ],
   "source": [
    "##20.Find all positions of 'a' in \"banana\"\n",
    "text = \"banana\"\n",
    "text.index(\"a\")\n"
   ]
  },
  {
   "cell_type": "code",
   "execution_count": 75,
   "id": "190026a5",
   "metadata": {},
   "outputs": [
    {
     "name": "stdout",
     "output_type": "stream",
     "text": [
      "True\n"
     ]
    }
   ],
   "source": [
    "## 21.Check if string ends with \"ing\": \"programming\"\n",
    "text = \"programming\"\n",
    "text_ends = text.endswith(\"ing\")\n",
    "print(text_ends)"
   ]
  },
  {
   "cell_type": "code",
   "execution_count": 79,
   "id": "e174a1d0",
   "metadata": {},
   "outputs": [
    {
     "name": "stdout",
     "output_type": "stream",
     "text": [
      "Hell0 W0rld\n"
     ]
    }
   ],
   "source": [
    "## 22.Replace first occurrence of 'o' with '0' in \"Hello World\"\n",
    "text = \"Hello World\"\n",
    "text_1 = text.replace(\"o\",'0')\n",
    "print(text_1)"
   ]
  },
  {
   "cell_type": "code",
   "execution_count": 80,
   "id": "a6832566",
   "metadata": {},
   "outputs": [
    {
     "name": "stdout",
     "output_type": "stream",
     "text": [
      "a\n"
     ]
    }
   ],
   "source": [
    "## 23.Find the shortest word in \"Python is a programming language\"\n",
    "text = \"Python is a programming language\"\n",
    "words = text.split()\n",
    "shortest = min(words,key=len)\n",
    "print(shortest)\n"
   ]
  },
  {
   "cell_type": "code",
   "execution_count": 14,
   "id": "35cd84e9",
   "metadata": {},
   "outputs": [
    {
     "name": "stdout",
     "output_type": "stream",
     "text": [
      "2\n"
     ]
    }
   ],
   "source": [
    "### 24.Count words that start with 'p' in \"Python programming is powerful\"\n",
    "text = \"Python programming is powerful\"\n",
    "words = text.count(\"p\")\n",
    "print(words)\n"
   ]
  },
  {
   "cell_type": "code",
   "execution_count": 18,
   "id": "ea25ee84",
   "metadata": {},
   "outputs": [
    {
     "name": "stdout",
     "output_type": "stream",
     "text": [
      "Python World Hello\n"
     ]
    }
   ],
   "source": [
    "## 25.Reverse words in \"Hello World Python\"\n",
    "text = \"Hello World Python\"\n",
    "text_1 = \" \".join(text.split()[::-1])\n",
    "print(text_1)"
   ]
  },
  {
   "cell_type": "code",
   "execution_count": 81,
   "id": "a709e53b",
   "metadata": {},
   "outputs": [
    {
     "name": "stdout",
     "output_type": "stream",
     "text": [
      "Number of lines: 3\n"
     ]
    }
   ],
   "source": [
    "## 26.Count lines in multi-line string\n",
    "string = \"\"\"Hi Hello\n",
    "learn data engineering\n",
    "now\"\"\"\n",
    "line_count = len(string.splitlines())\n",
    "print(\"Number of lines:\", line_count)"
   ]
  },
  {
   "cell_type": "code",
   "execution_count": 3,
   "id": "148db7d2",
   "metadata": {},
   "outputs": [
    {
     "name": "stdout",
     "output_type": "stream",
     "text": [
      "Hello World\n"
     ]
    }
   ],
   "source": [
    "### 27.Remove leading and trailing whitespace from \"  Hello World  \"\n",
    "text = \"  Hello World  \"\n",
    "text_1 = text.strip()\n",
    "print(text_1)"
   ]
  },
  {
   "cell_type": "code",
   "execution_count": null,
   "id": "5b0fc375",
   "metadata": {},
   "outputs": [
    {
     "name": "stdout",
     "output_type": "stream",
     "text": [
      "The most frequent character is 'i' with 4 occurrences.\n"
     ]
    }
   ],
   "source": [
    "## 28.Find the most frequent character in \"mississippi\"\n",
    "from collections import Counter\n",
    "s = \"mississippi\"\n",
    "freq = Counter(s)\n",
    "most_common_char, count = freq.most_common(1)[0]\n",
    "print(f\"The most frequent character is '{most_common_char}' with {count} occurrences.\")"
   ]
  },
  {
   "cell_type": "code",
   "execution_count": 5,
   "id": "4df9f7a1",
   "metadata": {},
   "outputs": [
    {
     "name": "stdout",
     "output_type": "stream",
     "text": [
      "Words with length > 5:['Python', 'programming', 'amazing', 'powerful']\n"
     ]
    }
   ],
   "source": [
    "## 29 Extract all words with length > 5 from \"Python programming is amazing and powerful\"\n",
    "text = \"Python programming is amazing and powerful\"\n",
    "words = text.split()\n",
    "long_words = [word for word in words if len(word) > 5]\n",
    "print(f\"Words with length > 5:{long_words}\")"
   ]
  },
  {
   "cell_type": "code",
   "execution_count": null,
   "id": "27c6c2b8",
   "metadata": {},
   "outputs": [],
   "source": []
  },
  {
   "cell_type": "code",
   "execution_count": null,
   "id": "e8a3fc36",
   "metadata": {},
   "outputs": [],
   "source": []
  },
  {
   "cell_type": "code",
   "execution_count": null,
   "id": "acb7c0c8",
   "metadata": {},
   "outputs": [],
   "source": []
  }
 ],
 "metadata": {
  "kernelspec": {
   "display_name": "Python 3",
   "language": "python",
   "name": "python3"
  },
  "language_info": {
   "codemirror_mode": {
    "name": "ipython",
    "version": 3
   },
   "file_extension": ".py",
   "mimetype": "text/x-python",
   "name": "python",
   "nbconvert_exporter": "python",
   "pygments_lexer": "ipython3",
   "version": "3.13.7"
  }
 },
 "nbformat": 4,
 "nbformat_minor": 5
}
