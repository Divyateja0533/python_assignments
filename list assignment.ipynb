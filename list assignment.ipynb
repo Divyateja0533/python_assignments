{
 "cells": [
  {
   "cell_type": "code",
   "execution_count": null,
   "id": "832fd4bb",
   "metadata": {},
   "outputs": [
    {
     "name": "stdout",
     "output_type": "stream",
     "text": [
      "89\n",
      "12\n"
     ]
    }
   ],
   "source": [
    "## 1.Find the maximum and minimum values in a list\n",
    "numbers = [23, 45, 12, 67, 34, 89, 56]\n",
    "print(max(numbers))\n",
    "print(min(numbers))"
   ]
  },
  {
   "cell_type": "code",
   "execution_count": null,
   "id": "435a80e1",
   "metadata": {},
   "outputs": [
    {
     "name": "stdout",
     "output_type": "stream",
     "text": [
      "[10, 9, 8, 7, 6, 5, 4, 3, 2, 1]\n"
     ]
    }
   ],
   "source": [
    "# 2.Reverse the list [1, 2, 3, 4, 5, 6, 7, 8, 9, 10]\n",
    "list = [1,2,3,4,5,6,7,8,9,10]\n",
    "newlist = list[::-1]\n",
    "print(newlist)"
   ]
  },
  {
   "cell_type": "code",
   "execution_count": null,
   "id": "77514d4c",
   "metadata": {},
   "outputs": [
    {
     "name": "stdout",
     "output_type": "stream",
     "text": [
      "4\n"
     ]
    }
   ],
   "source": [
    "#3. Count how many times 5 appears in [1, 5, 2, 5, 3, 5, 4, 5, 6]\n",
    "list = [1,5,2,5,3,5,4,5,6]\n",
    "list1 = list.count(5)\n",
    "print(list1)"
   ]
  },
  {
   "cell_type": "code",
   "execution_count": null,
   "id": "b89eacb8",
   "metadata": {},
   "outputs": [
    {
     "name": "stdout",
     "output_type": "stream",
     "text": [
      "[4, 5]\n"
     ]
    }
   ],
   "source": [
    "# 4. Find common elements between [1, 2, 3, 4, 5] and [4, 5, 6, 7, 8]\n",
    "lst1 = [1, 2, 3, 4, 5]\n",
    "lst2 = [4, 5, 6, 7, 8]\n",
    "common_elements = list(set(lst1).intersection(list(set(lst2))))\n",
    "print(common_elements)\n",
    "\n"
   ]
  },
  {
   "cell_type": "code",
   "execution_count": null,
   "id": "201189a4",
   "metadata": {},
   "outputs": [
    {
     "name": "stdout",
     "output_type": "stream",
     "text": [
      "[[1, 2], [3, 4], [5, 6]]\n"
     ]
    }
   ],
   "source": [
    "##5.Create a list of lists: [[1, 2], [3, 4], [5, 6]]\n",
    "list = [[1,2],[3,4],[5,6]]\n",
    "print(list)\n"
   ]
  },
  {
   "cell_type": "code",
   "execution_count": 7,
   "id": "028fbc59",
   "metadata": {},
   "outputs": [
    {
     "name": "stdout",
     "output_type": "stream",
     "text": [
      "[1, 2, 3, 4, 5, 6, 7]\n"
     ]
    }
   ],
   "source": [
    " ###6.Remove duplicates from [1, 2, 2, 3, 4, 4, 5, 6, 6, 7]\n",
    "numbers = [1, 2, 2, 3, 4, 4, 5, 6, 6, 7]\n",
    "set1=set[numbers] \n",
    "unique_numbers = list(set1(numbers))\n",
    "print(unique_numbers)"
   ]
  },
  {
   "cell_type": "code",
   "execution_count": null,
   "id": "575aaca8",
   "metadata": {},
   "outputs": [
    {
     "name": "stdout",
     "output_type": "stream",
     "text": [
      "[90, 64, 34, 25, 22, 12, 11]\n"
     ]
    }
   ],
   "source": [
    "##7.Sort the list [64, 34, 25, 12, 22, 11, 90] in descending order\n",
    "list = [64,34,25,12,22,11,90]\n",
    "list.sort(reverse=True)\n",
    "print(list)"
   ]
  },
  {
   "cell_type": "code",
   "execution_count": null,
   "id": "787a784a",
   "metadata": {},
   "outputs": [
    {
     "name": "stdout",
     "output_type": "stream",
     "text": [
      "48.0\n"
     ]
    }
   ],
   "source": [
    "##8.Find the average of numbers in [15, 23, 31, 42, 56, 78, 91]\n",
    "numbers = [15,23,31,42,56,78,91]\n",
    "average = sum(numbers)/len(numbers)\n",
    "print(average)\n"
   ]
  },
  {
   "cell_type": "code",
   "execution_count": null,
   "id": "28a6dcfe",
   "metadata": {},
   "outputs": [
    {
     "name": "stdout",
     "output_type": "stream",
     "text": [
      "78\n"
     ]
    }
   ],
   "source": [
    "##9.Find the second largest number in [45, 67, 23, 89, 12, 34, 78]\n",
    "list = [45,67,23,89,12,34,78]\n",
    "second_largest= sorted(list,reverse=True)[1]\n",
    "print(second_largest)\n"
   ]
  },
  {
   "cell_type": "code",
   "execution_count": null,
   "id": "a4df5700",
   "metadata": {},
   "outputs": [
    {
     "name": "stdout",
     "output_type": "stream",
     "text": [
      "[6, 15, 24]\n"
     ]
    }
   ],
   "source": [
    "## 10.Find the sum of each sublist in [[1, 2, 3], [4, 5, 6], [7, 8, 9]]\n",
    "nested_list = [[1,2,3],[4,5,6],[7,8,9]]\n",
    "sums= [sum(sublist) for sublist in nested_list]\n",
    "print(sums)\n"
   ]
  },
  {
   "cell_type": "code",
   "execution_count": null,
   "id": "5014f9a1",
   "metadata": {},
   "outputs": [
    {
     "name": "stdout",
     "output_type": "stream",
     "text": [
      "[5, 9, 8]\n"
     ]
    }
   ],
   "source": [
    "## 11.Find the maximum value in each sublist of [[1, 5, 3], [9, 2, 7], [4, 8, 6]]\n",
    "nested_list = [[1,5,3],[9,2,7],[4,8,6]]\n",
    "max_value = [max(sublist) for sublist in nested_list]\n",
    "print(max_value)\n"
   ]
  },
  {
   "cell_type": "code",
   "execution_count": null,
   "id": "f80e1b7f",
   "metadata": {},
   "outputs": [
    {
     "name": "stdout",
     "output_type": "stream",
     "text": [
      "(5, 6, 6, 4)\n"
     ]
    }
   ],
   "source": [
    "## 12.Find the length of each string in [\"apple\", \"banana\", \"cherry\", \"date\"]\n",
    "list=[\"apple\",\"banana\",\"cherry\",\"date\"]\n",
    "print((len(list[0]),len(list[1]),len(list[2]),len(list[3])))\n",
    "\n",
    "\n"
   ]
  },
  {
   "cell_type": "code",
   "execution_count": null,
   "id": "d4f4fff3",
   "metadata": {},
   "outputs": [],
   "source": []
  },
  {
   "cell_type": "code",
   "execution_count": null,
   "id": "453ecb7e",
   "metadata": {},
   "outputs": [],
   "source": []
  },
  {
   "cell_type": "code",
   "execution_count": null,
   "id": "a810b50e",
   "metadata": {},
   "outputs": [],
   "source": []
  }
 ],
 "metadata": {
  "kernelspec": {
   "display_name": "Python 3",
   "language": "python",
   "name": "python3"
  },
  "language_info": {
   "codemirror_mode": {
    "name": "ipython",
    "version": 3
   },
   "file_extension": ".py",
   "mimetype": "text/x-python",
   "name": "python",
   "nbconvert_exporter": "python",
   "pygments_lexer": "ipython3",
   "version": "3.13.7"
  }
 },
 "nbformat": 4,
 "nbformat_minor": 5
}
