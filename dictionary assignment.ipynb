{
 "cells": [
  {
   "cell_type": "code",
   "execution_count": null,
   "id": "cb157ba8",
   "metadata": {},
   "outputs": [
    {
     "name": "stdout",
     "output_type": "stream",
     "text": [
      "25\n",
      "{'name': 'divya', 'age': 27}\n",
      "divya\n"
     ]
    }
   ],
   "source": [
    "# DICTIONARY DATATYPE ASSIGNMENT - 50 QUESTIONS\n",
    " ##1: Create a dictionary of student names and their ages\n",
    "student_1 ={\"name\": \"divya\",\"age\": 27}\n",
    "student_2 = {\"name\": \"anil\",\"age\": 33}\n",
    "student_3 = {\"name\": \"nagaraju\",\"age\": 25}\n",
    "print(student_3[\"age\"])\n",
    "print(student_1)\n",
    "print(student_1[\"name\"])"
   ]
  },
  {
   "cell_type": "code",
   "execution_count": null,
   "id": "f0c092df",
   "metadata": {},
   "outputs": [
    {
     "name": "stdout",
     "output_type": "stream",
     "text": [
      "{'a': 1, 'b': 2, 'c': 3}\n",
      "{'a': 1, 'b': 2, 'c': 3, 'd': 4}\n"
     ]
    }
   ],
   "source": [
    "##2: Add a new key-value pair to dictionary {'a': 1, 'b': 2, 'c': 3}\n",
    "dict = {'a':1,'b':2,'c':3}\n",
    "print(dict)\n",
    "dict['d']= 4\n",
    "print(dict)"
   ]
  },
  {
   "cell_type": "code",
   "execution_count": 9,
   "id": "99054bd9",
   "metadata": {},
   "outputs": [
    {
     "name": "stdout",
     "output_type": "stream",
     "text": [
      "dict_keys(['name', 'age', 'city'])\n"
     ]
    }
   ],
   "source": [
    "##3: Get all keys from dictionary {'name': 'John', 'age': 25, 'city': 'New York'}\n",
    "person =  {'name': 'John', 'age': 25, 'city': 'New York'}\n",
    "keys = person.keys()\n",
    "print(keys)"
   ]
  },
  {
   "cell_type": "code",
   "execution_count": 10,
   "id": "5546bd60",
   "metadata": {},
   "outputs": [
    {
     "name": "stdout",
     "output_type": "stream",
     "text": [
      "dict_values([3, 2, 1])\n"
     ]
    }
   ],
   "source": [
    "##4: Get all values from dictionary {'python': 3, 'java': 2, 'c++': 1}\n",
    "course_list = {'python': 3, 'java': 2, 'c++': 1}\n",
    "values = course_list.values()\n",
    "print(values)"
   ]
  },
  {
   "cell_type": "code",
   "execution_count": 15,
   "id": "1701c9e4",
   "metadata": {},
   "outputs": [
    {
     "name": "stdout",
     "output_type": "stream",
     "text": [
      "key 'age' is existing\n"
     ]
    }
   ],
   "source": [
    "##5.Check if key 'age' exists in {'name': 'Alice', 'age': 30, 'city': 'London'}\n",
    "person = {'name': 'Alice', 'age': 30, 'city': 'London'}\n",
    "if 'age' in person:\n",
    "    print( \"key 'age' is existing\")\n",
    "else:\n",
    "    print(\"key 'age' is not existing\")"
   ]
  },
  {
   "cell_type": "code",
   "execution_count": 19,
   "id": "7678a8c3",
   "metadata": {},
   "outputs": [
    {
     "data": {
      "text/plain": [
       "3"
      ]
     },
     "execution_count": 19,
     "metadata": {},
     "output_type": "execute_result"
    }
   ],
   "source": [
    "##6: Remove key 'temp' from {'a': 1, 'b': 2, 'temp': 3, 'c': 4}\n",
    "dict = {'a':1,'b':2,'temp':3,'c':4}\n",
    "temp = dict.pop('temp')\n",
    "temp"
   ]
  },
  {
   "cell_type": "code",
   "execution_count": 24,
   "id": "4ffdd045",
   "metadata": {},
   "outputs": [
    {
     "name": "stdout",
     "output_type": "stream",
     "text": [
      "dict_values([85, 92, 78])\n",
      "255\n"
     ]
    }
   ],
   "source": [
    "## 7.Find the sum of all values in {'math': 85, 'science': 92, 'english': 78}\n",
    "subject = {'math': 85, 'science': 92, 'english': 78}\n",
    "values = subject.values()\n",
    "print(values)\n",
    "print(sum(values))"
   ]
  },
  {
   "cell_type": "code",
   "execution_count": 26,
   "id": "838660a4",
   "metadata": {},
   "outputs": [
    {
     "name": "stdout",
     "output_type": "stream",
     "text": [
      "{1: 1, 2: 4, 3: 9, 4: 16, 5: 25}\n"
     ]
    }
   ],
   "source": [
    "## 8.Create a dictionary with squares of numbers 1 to 5\n",
    "squares = {i:i**2 for i in range(1,6)}\n",
    "print(squares)"
   ]
  },
  {
   "cell_type": "code",
   "execution_count": 33,
   "id": "172fe757",
   "metadata": {},
   "outputs": [
    {
     "name": "stdout",
     "output_type": "stream",
     "text": [
      "{'a': 1, 'b': 2, 'c': 3, 'd': 4}\n"
     ]
    }
   ],
   "source": [
    "##10.Merge two dictionaries {'a': 1, 'b': 2} and {'c': 3, 'd': 4}\n",
    "dict_1 = {'a': 1, 'b': 2}\n",
    "dict_2 = {'c': 3, 'd': 4}\n",
    "merged_dict = {**dict_1,**dict_2}\n",
    "print(merged_dict)\n",
    "\n"
   ]
  },
  {
   "cell_type": "code",
   "execution_count": 34,
   "metadata": {},
   "outputs": [
    {
     "name": "stdout",
     "output_type": "stream",
     "text": [
      "{'person': {'name': 'Alice', 'age': 25}}\n"
     ]
    }
   ],
   "source": [
    "## 11: Create a nested dictionary: {'person': {'name': 'Alice', 'age': 25}}\n",
    "person = {\n",
    "    'person': {\n",
    "        'name': 'Alice',\n",
    "        'age': 25\n",
    "    }\n",
    "}\n",
    "print(person)\n"
   ]
  },
  {
   "cell_type": "code",
   "execution_count": 36,
   "id": "c5ab3a33",
   "metadata": {},
   "outputs": [
    {
     "name": "stdout",
     "output_type": "stream",
     "text": [
      "Alice\n"
     ]
    }
   ],
   "source": [
    "## 12: Access nested value 'name' from {'person': {'name': 'Alice', 'age': 25}}\n",
    "person_1 = {'person': {'name': 'Alice', 'age': 25}}\n",
    "print(person_1['person']['name'])\n"
   ]
  },
  {
   "cell_type": "code",
   "execution_count": 39,
   "id": "3dec69d5",
   "metadata": {},
   "outputs": [
    {
     "name": "stdout",
     "output_type": "stream",
     "text": [
      "{'fruits': ['apple', 'banana'], 'colors': ['red', 'blue']}\n"
     ]
    }
   ],
   "source": [
    " ## 13.Create a dictionary with list values: {'fruits': ['apple', 'banana'], 'colors': ['red', 'blue']}\n",
    "dict={\n",
    "    'fruits':['apple', 'banana'],\n",
    "     'colors':['red', 'blue'] \n",
    "}\n",
    "print(dict)"
   ]
  },
  {
   "cell_type": "code",
   "execution_count": 40,
   "id": "d6ce47a4",
   "metadata": {},
   "outputs": [
    {
     "name": "stdout",
     "output_type": "stream",
     "text": [
      "{'fruits': ['apple', 'banana', 'orange'], 'colors': ['red', 'blue']}\n"
     ]
    }
   ],
   "source": [
    "##14: Add 'orange' to the 'fruits' list in nested dictionary\n",
    "dict={\n",
    "    'fruits':['apple', 'banana'],\n",
    "     'colors':['red', 'blue'] \n",
    "}\n",
    "dict['fruits'].append('orange')\n",
    "print(dict)"
   ]
  },
  {
   "cell_type": "code",
   "execution_count": null,
   "id": "8ed42db6",
   "metadata": {},
   "outputs": [],
   "source": []
  },
  {
   "cell_type": "code",
   "execution_count": null,
   "metadata": {},
   "outputs": [],
   "source": []
  },
  {
   "cell_type": "code",
   "execution_count": null,
   "id": "eef8671c",
   "metadata": {},
   "outputs": [],
   "source": []
  },
  {
   "cell_type": "code",
   "execution_count": null,
   "id": "84f2821b",
   "metadata": {},
   "outputs": [],
   "source": []
  }
 ],
 "metadata": {
  "kernelspec": {
   "display_name": "Python 3",
   "language": "python",
   "name": "python3"
  },
  "language_info": {
   "codemirror_mode": {
    "name": "ipython",
    "version": 3
   },
   "file_extension": ".py",
   "mimetype": "text/x-python",
   "name": "python",
   "nbconvert_exporter": "python",
   "pygments_lexer": "ipython3",
   "version": "3.13.7"
  }
 },
 "nbformat": 4,
 "nbformat_minor": 5
}
