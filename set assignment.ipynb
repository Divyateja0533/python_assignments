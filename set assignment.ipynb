{
 "cells": [
  {
   "cell_type": "code",
   "execution_count": null,
   "id": "13f2b6d8",
   "metadata": {},
   "outputs": [
    {
     "name": "stdout",
     "output_type": "stream",
     "text": [
      "{1, 2, 3, 4, 5, 6, 7, 8, 9, 10}\n"
     ]
    }
   ],
   "source": [
    "# SET DATATYPE ASSIGNMENT\n",
    "\n",
    "##1.Create a set of first 10 natural numbers\n",
    "numbers = {1,2,3,4,5,6,7,8,9,10}\n",
    "print(numbers)"
   ]
  },
  {
   "cell_type": "code",
   "execution_count": 1,
   "id": "f85e6dee",
   "metadata": {},
   "outputs": [
    {
     "name": "stdout",
     "output_type": "stream",
     "text": [
      "{1, 2, 3, 4, 5, 11}\n"
     ]
    }
   ],
   "source": [
    "##2: Add element 11 to set {1, 2, 3, 4, 5}\n",
    "set = {1,2,3,4,5}\n",
    "set.add(11)\n",
    "print(set)\n"
   ]
  },
  {
   "cell_type": "code",
   "execution_count": 2,
   "id": "05ec98ee",
   "metadata": {},
   "outputs": [
    {
     "name": "stdout",
     "output_type": "stream",
     "text": [
      "{1, 2, 4, 5, 6}\n"
     ]
    }
   ],
   "source": [
    "##3.Remove element 3 from set {1, 2, 3, 4, 5, 6}\n",
    "set = {1,2,3,4,5,6}\n",
    "set.remove(3)\n",
    "print(set)"
   ]
  },
  {
   "cell_type": "code",
   "execution_count": null,
   "id": "7c3cb855",
   "metadata": {},
   "outputs": [
    {
     "name": "stdout",
     "output_type": "stream",
     "text": [
      "{4, 5}\n"
     ]
    }
   ],
   "source": [
    "##4: Find the intersection of {1, 2, 3, 4, 5} and {4, 5, 6, 7, 8}\n",
    "set1 = {1,2,3,4,5}\n",
    "set2 = {4,5,6,7,8}\n",
    "new_set = set1.intersection(set2)\n",
    "print(new_set)"
   ]
  },
  {
   "cell_type": "code",
   "execution_count": 4,
   "id": "bcfe5f72",
   "metadata": {},
   "outputs": [
    {
     "name": "stdout",
     "output_type": "stream",
     "text": [
      "{1, 2, 3}\n"
     ]
    }
   ],
   "source": [
    "## 5.Find the difference between {1, 2, 3, 4, 5} and {4, 5, 6, 7, 8}\n",
    "set1 = {1,2,3,4,5}\n",
    "set2 = {4,5,6,7,8}\n",
    "new_set = set1.difference(set2)\n",
    "print(new_set)\n"
   ]
  },
  {
   "cell_type": "code",
   "execution_count": 7,
   "id": "9a40214f",
   "metadata": {},
   "outputs": [
    {
     "name": "stdout",
     "output_type": "stream",
     "text": [
      "False\n"
     ]
    }
   ],
   "source": [
    "##6: Check if 5 is in set {1, 2, 3, 4, 6, 7, 8}\n",
    "set = {1,2,3,4,6,7,8}\n",
    "print(5 in set)"
   ]
  },
  {
   "cell_type": "code",
   "execution_count": 8,
   "id": "3d2bcd3b",
   "metadata": {},
   "outputs": [
    {
     "name": "stdout",
     "output_type": "stream",
     "text": [
      "5\n"
     ]
    }
   ],
   "source": [
    "##7: Find the length of set {'a', 'b', 'c', 'd', 'e'}\n",
    "set = {'a','b','c','d','e'}\n",
    "print(len(set))"
   ]
  },
  {
   "cell_type": "code",
   "execution_count": 9,
   "id": "314dd164",
   "metadata": {},
   "outputs": [
    {
     "name": "stdout",
     "output_type": "stream",
     "text": [
      "{'o', 'e'}\n"
     ]
    }
   ],
   "source": [
    "##8.Create a set of vowels from string \"hello world\"\n",
    "text = \"hello world\"\n",
    "vowels = {'a','e','i','o','u'}\n",
    "vowels_in_text = {char for char in text if char in vowels}\n",
    "print(vowels_in_text)\n"
   ]
  },
  {
   "cell_type": "code",
   "execution_count": 45,
   "id": "7a4a8405",
   "metadata": {},
   "outputs": [
    {
     "name": "stdout",
     "output_type": "stream",
     "text": [
      "[1, 2, 2, 3, 4, 4, 5, 6, 6, 7]\n",
      "<class 'list'>\n",
      "{1, 2, 3, 4, 5, 6, 7}\n",
      "<class 'set'>\n"
     ]
    }
   ],
   "source": [
    "##9: Remove duplicates from list [1, 2, 2, 3, 4, 4, 5, 6, 6, 7] using set\n",
    "\n",
    "numbers = [1,2,2,3,4,4,5,6,6,7]\n",
    "print(numbers)\n",
    "print(type(numbers))\n",
    "set1={1,2,2,3,4,4,5,6,6,7}\n",
    "print(set1)\n",
    "print(type(set1))\n",
    "\n"
   ]
  },
  {
   "cell_type": "code",
   "execution_count": 35,
   "id": "b94d43a5",
   "metadata": {},
   "outputs": [
    {
     "data": {
      "text/plain": [
       "True"
      ]
     },
     "execution_count": 35,
     "metadata": {},
     "output_type": "execute_result"
    }
   ],
   "source": [
    "## 10.Check if {1, 2, 3} is a subset of {1, 2, 3, 4, 5, 6}\n",
    "set1 = {1,2,3}\n",
    "set2 = {1,2,3,4,5,6}\n",
    "set1.issubset(set2)\n"
   ]
  }
 ],
 "metadata": {
  "kernelspec": {
   "display_name": "Python 3",
   "language": "python",
   "name": "python3"
  },
  "language_info": {
   "codemirror_mode": {
    "name": "ipython",
    "version": 3
   },
   "file_extension": ".py",
   "mimetype": "text/x-python",
   "name": "python",
   "nbconvert_exporter": "python",
   "pygments_lexer": "ipython3",
   "version": "3.13.7"
  }
 },
 "nbformat": 4,
 "nbformat_minor": 5
}
